{
 "cells": [
  {
   "cell_type": "markdown",
   "metadata": {},
   "source": [
    "3) Sentiment analysis using the public twitter API access:\n",
    "\n",
    "For the purpose of this event, feel free to use API keys below.\n",
    "To be able to do more extensive research, you need to apply for the Twitter \"developer\" account.\n",
    "See this article for more details on how to apply:\n",
    "https://www.codementor.io/@ferrorodolfo/sentiment-analysis-on-trump-s-tweets-using-python-pltbvb4xr"
   ]
  },
  {
   "cell_type": "markdown",
   "metadata": {},
   "source": [
    "First, load the API credentials:"
   ]
  },
  {
   "cell_type": "code",
   "execution_count": 49,
   "metadata": {},
   "outputs": [],
   "source": [
    "#This is also saved in file credentials.py\n",
    "# Twitter App access keys for @user\n",
    "#https://developer.twitter.com/en/apps\n",
    "\n",
    "# Consume:\n",
    "CONSUMER_KEY    = 'qg907KH5lNPeXtGHIE0RLClKt'\n",
    "CONSUMER_SECRET = 'sQTi3MIOhDCuGhnlttyFG9ynVjEHhnIvnJ3Y3KC6QPuBfTAXaf'\n",
    "\n",
    "# Access:\n",
    "ACCESS_TOKEN  = '1925775572-BwFQZLGkFl1r4ViYoAi7ibnT9sCW8lUHE7wC60O'\n",
    "ACCESS_SECRET = 'FOc5cFqgk3AEZtiRSfnfhVsJdLJbbuHSlrK2WJncTusjI'"
   ]
  },
  {
   "cell_type": "markdown",
   "metadata": {},
   "source": [
    "Next load the code setup:"
   ]
  },
  {
   "cell_type": "code",
   "execution_count": 47,
   "metadata": {},
   "outputs": [],
   "source": [
    "import tweepy           # To consume Twitter's API\n",
    "import pandas as pd     # To handle data\n",
    "import numpy as np      # For number computing\n",
    "from IPython.display import display\n",
    "import matplotlib.pyplot as plt\n",
    "import seaborn as sns\n",
    "\n",
    "\n",
    "%matplotlib inline\n",
    "\n",
    "# API's setup:\n",
    "def twitter_setup():\n",
    "    \"\"\"\n",
    "    Utility function to setup the Twitter's API\n",
    "    with our access keys provided.\n",
    "    \"\"\"\n",
    "    # Authentication and access using keys:\n",
    "    auth = tweepy.OAuthHandler(CONSUMER_KEY, CONSUMER_SECRET)\n",
    "    auth.set_access_token(ACCESS_TOKEN, ACCESS_SECRET)\n",
    "\n",
    "    # Return API with authentication:\n",
    "    api = tweepy.API(auth)\n",
    "    return api"
   ]
  },
  {
   "cell_type": "markdown",
   "metadata": {},
   "source": [
    "Unless you want a data for different user, keep the preset value in the code below:\n",
    "\n",
    "TW_USER - this is the username of the account you want to scrape\n",
    "\n",
    "TARGET_COUNT - this is the total number of tweets to download."
   ]
  },
  {
   "cell_type": "code",
   "execution_count": null,
   "metadata": {},
   "outputs": [],
   "source": [
    "TW_USER='elonmusk'\n",
    "TARGET_COUNT=200"
   ]
  },
  {
   "cell_type": "markdown",
   "metadata": {},
   "source": [
    "Now you can run the code below to actually download the data from the Twitter:"
   ]
  },
  {
   "cell_type": "code",
   "execution_count": 50,
   "metadata": {},
   "outputs": [
    {
     "name": "stdout",
     "output_type": "stream",
     "text": [
      "Number of tweets extracted: 199.\n",
      "\n",
      "5 recent tweets:\n",
      "\n",
      "Space Ark - 1968 by Japanese artist Shigeru Komatsuzaki (1915-2001)\n",
      "\n",
      "Starship takes beings of Earth to Mars https://t.co/6qaIc3p4yA\n",
      "\n",
      "@CChomp13 🤣💯\n",
      "\n",
      "@sama What’s the average cost per chat?\n",
      "\n",
      "@WholeMarsBlog Electric cargo ships are straightforward, as are short to medium range electric aircraft. Long-range… https://t.co/4t7raza695\n",
      "\n"
     ]
    }
   ],
   "source": [
    "extractor = twitter_setup()\n",
    "\n",
    "tweets = extractor.user_timeline(screen_name=TW_USER, TARGET_COUNT)\n",
    "print(\"Number of tweets extracted: {}.\\n\".format(len(tweets)))\n",
    "\n",
    "print(\"5 recent tweets:\\n\")\n",
    "for tweet in tweets[:5]:\n",
    "    print(tweet.text)\n",
    "    print()"
   ]
  },
  {
   "cell_type": "markdown",
   "metadata": {},
   "source": [
    "Next step is to extract the text part from the tweets - starting with \"dataframe\" creation:"
   ]
  },
  {
   "cell_type": "code",
   "execution_count": 29,
   "metadata": {},
   "outputs": [
    {
     "data": {
      "text/html": [
       "<div>\n",
       "<style scoped>\n",
       "    .dataframe tbody tr th:only-of-type {\n",
       "        vertical-align: middle;\n",
       "    }\n",
       "\n",
       "    .dataframe tbody tr th {\n",
       "        vertical-align: top;\n",
       "    }\n",
       "\n",
       "    .dataframe thead th {\n",
       "        text-align: right;\n",
       "    }\n",
       "</style>\n",
       "<table border=\"1\" class=\"dataframe\">\n",
       "  <thead>\n",
       "    <tr style=\"text-align: right;\">\n",
       "      <th></th>\n",
       "      <th>Tweets</th>\n",
       "    </tr>\n",
       "  </thead>\n",
       "  <tbody>\n",
       "    <tr>\n",
       "      <th>0</th>\n",
       "      <td>Space Ark - 1968 by Japanese artist Shigeru Ko...</td>\n",
       "    </tr>\n",
       "    <tr>\n",
       "      <th>1</th>\n",
       "      <td>Starship takes beings of Earth to Mars https:/...</td>\n",
       "    </tr>\n",
       "    <tr>\n",
       "      <th>2</th>\n",
       "      <td>@CChomp13 🤣💯</td>\n",
       "    </tr>\n",
       "    <tr>\n",
       "      <th>3</th>\n",
       "      <td>@sama What’s the average cost per chat?</td>\n",
       "    </tr>\n",
       "    <tr>\n",
       "      <th>4</th>\n",
       "      <td>@WholeMarsBlog Electric cargo ships are straig...</td>\n",
       "    </tr>\n",
       "    <tr>\n",
       "      <th>5</th>\n",
       "      <td>@BillyM2k Team was a bit too intense with spam...</td>\n",
       "    </tr>\n",
       "    <tr>\n",
       "      <th>6</th>\n",
       "      <td>@RichardGarriott 1</td>\n",
       "    </tr>\n",
       "    <tr>\n",
       "      <th>7</th>\n",
       "      <td>@WholeMarsBlog About a week or so</td>\n",
       "    </tr>\n",
       "    <tr>\n",
       "      <th>8</th>\n",
       "      <td>@COLDEX_STC @SpaceX @NSF @blueicehiggins @icy_...</td>\n",
       "    </tr>\n",
       "    <tr>\n",
       "      <th>9</th>\n",
       "      <td>RT @COLDEX_STC: Despite 30 knot winds at the A...</td>\n",
       "    </tr>\n",
       "  </tbody>\n",
       "</table>\n",
       "</div>"
      ],
      "text/plain": [
       "                                              Tweets\n",
       "0  Space Ark - 1968 by Japanese artist Shigeru Ko...\n",
       "1  Starship takes beings of Earth to Mars https:/...\n",
       "2                                       @CChomp13 🤣💯\n",
       "3            @sama What’s the average cost per chat?\n",
       "4  @WholeMarsBlog Electric cargo ships are straig...\n",
       "5  @BillyM2k Team was a bit too intense with spam...\n",
       "6                                 @RichardGarriott 1\n",
       "7                  @WholeMarsBlog About a week or so\n",
       "8  @COLDEX_STC @SpaceX @NSF @blueicehiggins @icy_...\n",
       "9  RT @COLDEX_STC: Despite 30 knot winds at the A..."
      ]
     },
     "metadata": {},
     "output_type": "display_data"
    }
   ],
   "source": [
    "data = pd.DataFrame(data=[tweet.text for tweet in tweets], columns=['Tweets'])\n",
    "display(data.head(10))"
   ]
  },
  {
   "cell_type": "markdown",
   "metadata": {},
   "source": [
    "Just for your reference - browse all the avalaible methods in the api. You can see you can also exctract location and other information:"
   ]
  },
  {
   "cell_type": "code",
   "execution_count": 30,
   "metadata": {},
   "outputs": [
    {
     "name": "stdout",
     "output_type": "stream",
     "text": [
      "['__class__', '__delattr__', '__dict__', '__dir__', '__doc__', '__eq__', '__format__', '__ge__', '__getattribute__', '__getstate__', '__gt__', '__hash__', '__init__', '__init_subclass__', '__le__', '__lt__', '__module__', '__ne__', '__new__', '__reduce__', '__reduce_ex__', '__repr__', '__setattr__', '__sizeof__', '__slots__', '__str__', '__subclasshook__', '__weakref__', '_api', '_json', 'author', 'contributors', 'coordinates', 'created_at', 'destroy', 'entities', 'favorite', 'favorite_count', 'favorited', 'geo', 'id', 'id_str', 'in_reply_to_screen_name', 'in_reply_to_status_id', 'in_reply_to_status_id_str', 'in_reply_to_user_id', 'in_reply_to_user_id_str', 'is_quote_status', 'lang', 'parse', 'parse_list', 'place', 'retweet', 'retweet_count', 'retweeted', 'retweets', 'source', 'source_url', 'text', 'truncated', 'user']\n"
     ]
    }
   ],
   "source": [
    "\n",
    "print(dir(tweets[0]))"
   ]
  },
  {
   "cell_type": "markdown",
   "metadata": {},
   "source": [
    "Examples of what does the other methods data looks like:"
   ]
  },
  {
   "cell_type": "code",
   "execution_count": 31,
   "metadata": {},
   "outputs": [
    {
     "name": "stdout",
     "output_type": "stream",
     "text": [
      "1599672158086889474\n",
      "2022-12-05 07:48:57+00:00\n",
      "Twitter for iPhone\n",
      "46373\n",
      "2583\n",
      "None\n",
      "None\n",
      "{'hashtags': [], 'symbols': [], 'user_mentions': [], 'urls': []}\n"
     ]
    }
   ],
   "source": [
    "\n",
    "print(tweets[0].id)\n",
    "print(tweets[0].created_at)\n",
    "print(tweets[0].source)\n",
    "print(tweets[0].favorite_count)\n",
    "print(tweets[0].retweet_count)\n",
    "print(tweets[0].geo)\n",
    "print(tweets[0].coordinates)\n",
    "print(tweets[0].entities)"
   ]
  },
  {
   "cell_type": "markdown",
   "metadata": {},
   "source": [
    "Now we load the relevant data to the table \"data\":"
   ]
  },
  {
   "cell_type": "code",
   "execution_count": 32,
   "metadata": {},
   "outputs": [],
   "source": [
    "\n",
    "data['len']  = np.array([len(tweet.text) for tweet in tweets])\n",
    "data['ID']   = np.array([tweet.id for tweet in tweets])\n",
    "data['Date'] = np.array([tweet.created_at for tweet in tweets])\n",
    "data['Source'] = np.array([tweet.source for tweet in tweets])\n",
    "data['Likes']  = np.array([tweet.favorite_count for tweet in tweets])\n",
    "data['RTs']    = np.array([tweet.retweet_count for tweet in tweets])"
   ]
  },
  {
   "cell_type": "markdown",
   "metadata": {},
   "source": [
    "See the first 10 elements of the dataset:"
   ]
  },
  {
   "cell_type": "code",
   "execution_count": 33,
   "metadata": {},
   "outputs": [
    {
     "data": {
      "text/html": [
       "<div>\n",
       "<style scoped>\n",
       "    .dataframe tbody tr th:only-of-type {\n",
       "        vertical-align: middle;\n",
       "    }\n",
       "\n",
       "    .dataframe tbody tr th {\n",
       "        vertical-align: top;\n",
       "    }\n",
       "\n",
       "    .dataframe thead th {\n",
       "        text-align: right;\n",
       "    }\n",
       "</style>\n",
       "<table border=\"1\" class=\"dataframe\">\n",
       "  <thead>\n",
       "    <tr style=\"text-align: right;\">\n",
       "      <th></th>\n",
       "      <th>Tweets</th>\n",
       "      <th>len</th>\n",
       "      <th>ID</th>\n",
       "      <th>Date</th>\n",
       "      <th>Source</th>\n",
       "      <th>Likes</th>\n",
       "      <th>RTs</th>\n",
       "    </tr>\n",
       "  </thead>\n",
       "  <tbody>\n",
       "    <tr>\n",
       "      <th>0</th>\n",
       "      <td>Space Ark - 1968 by Japanese artist Shigeru Ko...</td>\n",
       "      <td>67</td>\n",
       "      <td>1599672158086889474</td>\n",
       "      <td>2022-12-05 07:48:57+00:00</td>\n",
       "      <td>Twitter for iPhone</td>\n",
       "      <td>46373</td>\n",
       "      <td>2583</td>\n",
       "    </tr>\n",
       "    <tr>\n",
       "      <th>1</th>\n",
       "      <td>Starship takes beings of Earth to Mars https:/...</td>\n",
       "      <td>62</td>\n",
       "      <td>1599671964582391808</td>\n",
       "      <td>2022-12-05 07:48:11+00:00</td>\n",
       "      <td>Twitter for iPhone</td>\n",
       "      <td>148985</td>\n",
       "      <td>12713</td>\n",
       "    </tr>\n",
       "    <tr>\n",
       "      <th>2</th>\n",
       "      <td>@CChomp13 🤣💯</td>\n",
       "      <td>12</td>\n",
       "      <td>1599669828478185472</td>\n",
       "      <td>2022-12-05 07:39:42+00:00</td>\n",
       "      <td>Twitter for iPhone</td>\n",
       "      <td>4189</td>\n",
       "      <td>191</td>\n",
       "    </tr>\n",
       "    <tr>\n",
       "      <th>3</th>\n",
       "      <td>@sama What’s the average cost per chat?</td>\n",
       "      <td>39</td>\n",
       "      <td>1599669552081960960</td>\n",
       "      <td>2022-12-05 07:38:36+00:00</td>\n",
       "      <td>Twitter for iPhone</td>\n",
       "      <td>22860</td>\n",
       "      <td>764</td>\n",
       "    </tr>\n",
       "    <tr>\n",
       "      <th>4</th>\n",
       "      <td>@WholeMarsBlog Electric cargo ships are straig...</td>\n",
       "      <td>140</td>\n",
       "      <td>1599643371428986880</td>\n",
       "      <td>2022-12-05 05:54:34+00:00</td>\n",
       "      <td>Twitter for iPhone</td>\n",
       "      <td>18147</td>\n",
       "      <td>1377</td>\n",
       "    </tr>\n",
       "    <tr>\n",
       "      <th>5</th>\n",
       "      <td>@BillyM2k Team was a bit too intense with spam...</td>\n",
       "      <td>85</td>\n",
       "      <td>1599640228721233921</td>\n",
       "      <td>2022-12-05 05:42:05+00:00</td>\n",
       "      <td>Twitter for iPhone</td>\n",
       "      <td>19394</td>\n",
       "      <td>1110</td>\n",
       "    </tr>\n",
       "    <tr>\n",
       "      <th>6</th>\n",
       "      <td>@RichardGarriott 1</td>\n",
       "      <td>18</td>\n",
       "      <td>1599638758697013248</td>\n",
       "      <td>2022-12-05 05:36:14+00:00</td>\n",
       "      <td>Twitter for iPhone</td>\n",
       "      <td>43137</td>\n",
       "      <td>1260</td>\n",
       "    </tr>\n",
       "    <tr>\n",
       "      <th>7</th>\n",
       "      <td>@WholeMarsBlog About a week or so</td>\n",
       "      <td>33</td>\n",
       "      <td>1599628966398025728</td>\n",
       "      <td>2022-12-05 04:57:19+00:00</td>\n",
       "      <td>Twitter for iPhone</td>\n",
       "      <td>4318</td>\n",
       "      <td>210</td>\n",
       "    </tr>\n",
       "    <tr>\n",
       "      <th>8</th>\n",
       "      <td>@COLDEX_STC @SpaceX @NSF @blueicehiggins @icy_...</td>\n",
       "      <td>140</td>\n",
       "      <td>1599628470744588288</td>\n",
       "      <td>2022-12-05 04:55:21+00:00</td>\n",
       "      <td>Twitter for iPhone</td>\n",
       "      <td>19229</td>\n",
       "      <td>918</td>\n",
       "    </tr>\n",
       "    <tr>\n",
       "      <th>9</th>\n",
       "      <td>RT @COLDEX_STC: Despite 30 knot winds at the A...</td>\n",
       "      <td>140</td>\n",
       "      <td>1599628033962307584</td>\n",
       "      <td>2022-12-05 04:53:37+00:00</td>\n",
       "      <td>Twitter for iPhone</td>\n",
       "      <td>0</td>\n",
       "      <td>3865</td>\n",
       "    </tr>\n",
       "  </tbody>\n",
       "</table>\n",
       "</div>"
      ],
      "text/plain": [
       "                                              Tweets  len  \\\n",
       "0  Space Ark - 1968 by Japanese artist Shigeru Ko...   67   \n",
       "1  Starship takes beings of Earth to Mars https:/...   62   \n",
       "2                                       @CChomp13 🤣💯   12   \n",
       "3            @sama What’s the average cost per chat?   39   \n",
       "4  @WholeMarsBlog Electric cargo ships are straig...  140   \n",
       "5  @BillyM2k Team was a bit too intense with spam...   85   \n",
       "6                                 @RichardGarriott 1   18   \n",
       "7                  @WholeMarsBlog About a week or so   33   \n",
       "8  @COLDEX_STC @SpaceX @NSF @blueicehiggins @icy_...  140   \n",
       "9  RT @COLDEX_STC: Despite 30 knot winds at the A...  140   \n",
       "\n",
       "                    ID                      Date              Source   Likes  \\\n",
       "0  1599672158086889474 2022-12-05 07:48:57+00:00  Twitter for iPhone   46373   \n",
       "1  1599671964582391808 2022-12-05 07:48:11+00:00  Twitter for iPhone  148985   \n",
       "2  1599669828478185472 2022-12-05 07:39:42+00:00  Twitter for iPhone    4189   \n",
       "3  1599669552081960960 2022-12-05 07:38:36+00:00  Twitter for iPhone   22860   \n",
       "4  1599643371428986880 2022-12-05 05:54:34+00:00  Twitter for iPhone   18147   \n",
       "5  1599640228721233921 2022-12-05 05:42:05+00:00  Twitter for iPhone   19394   \n",
       "6  1599638758697013248 2022-12-05 05:36:14+00:00  Twitter for iPhone   43137   \n",
       "7  1599628966398025728 2022-12-05 04:57:19+00:00  Twitter for iPhone    4318   \n",
       "8  1599628470744588288 2022-12-05 04:55:21+00:00  Twitter for iPhone   19229   \n",
       "9  1599628033962307584 2022-12-05 04:53:37+00:00  Twitter for iPhone       0   \n",
       "\n",
       "     RTs  \n",
       "0   2583  \n",
       "1  12713  \n",
       "2    191  \n",
       "3    764  \n",
       "4   1377  \n",
       "5   1110  \n",
       "6   1260  \n",
       "7    210  \n",
       "8    918  \n",
       "9   3865  "
      ]
     },
     "metadata": {},
     "output_type": "display_data"
    }
   ],
   "source": [
    "\n",
    "display(data.head(10))"
   ]
  },
  {
   "cell_type": "markdown",
   "metadata": {},
   "source": [
    "Get the average length of the tweets:"
   ]
  },
  {
   "cell_type": "code",
   "execution_count": 34,
   "metadata": {},
   "outputs": [
    {
     "name": "stdout",
     "output_type": "stream",
     "text": [
      "The lenght's average in tweets: 70.5929648241206\n"
     ]
    }
   ],
   "source": [
    "mean = np.mean(data['len'])\n",
    "print(\"The lenght's average in tweets: {}\".format(mean))"
   ]
  },
  {
   "cell_type": "markdown",
   "metadata": {},
   "source": [
    "Get the likes and retweets:"
   ]
  },
  {
   "cell_type": "code",
   "execution_count": 35,
   "metadata": {},
   "outputs": [
    {
     "name": "stdout",
     "output_type": "stream",
     "text": [
      "The tweet with more likes is: \n",
      "This is a battle for the future of civilization. If free speech is lost even in America, tyranny is all that lies ahead.\n",
      "Number of likes: 921843\n",
      "120 characters.\n",
      "\n",
      "The tweet with more retweets is: \n",
      "This is a battle for the future of civilization. If free speech is lost even in America, tyranny is all that lies ahead.\n",
      "Number of retweets: 146407\n",
      "120 characters.\n",
      "\n"
     ]
    }
   ],
   "source": [
    "fav_max = np.max(data['Likes'])\n",
    "rt_max  = np.max(data['RTs'])\n",
    "\n",
    "fav = data[data.Likes == fav_max].index[0]\n",
    "rt  = data[data.RTs == rt_max].index[0]\n",
    "print(\"The tweet with more likes is: \\n{}\".format(data['Tweets'][fav]))\n",
    "print(\"Number of likes: {}\".format(fav_max))\n",
    "print(\"{} characters.\\n\".format(data['len'][fav]))\n",
    "print(\"The tweet with more retweets is: \\n{}\".format(data['Tweets'][rt]))\n",
    "print(\"Number of retweets: {}\".format(rt_max))\n",
    "print(\"{} characters.\\n\".format(data['len'][rt]))"
   ]
  },
  {
   "cell_type": "markdown",
   "metadata": {},
   "source": [
    "To be able to view the time series, we have to add the \"Date\" information to the table:"
   ]
  },
  {
   "cell_type": "code",
   "execution_count": 36,
   "metadata": {},
   "outputs": [],
   "source": [
    "tlen = pd.Series(data=data['len'].values, index=data['Date'])\n",
    "tfav = pd.Series(data=data['Likes'].values, index=data['Date'])\n",
    "tret = pd.Series(data=data['RTs'].values, index=data['Date'])"
   ]
  },
  {
   "cell_type": "markdown",
   "metadata": {},
   "source": [
    "Length over the time:"
   ]
  },
  {
   "cell_type": "code",
   "execution_count": 37,
   "metadata": {},
   "outputs": [
    {
     "data": {
      "image/png": "[encoded data removed]",
      "text/plain": [
       "<Figure size 1152x288 with 1 Axes>"
      ]
     },
     "metadata": {
      "needs_background": "light"
     },
     "output_type": "display_data"
    }
   ],
   "source": [
    "tlen.plot(figsize=(16,4), color='r');"
   ]
  },
  {
   "cell_type": "markdown",
   "metadata": {},
   "source": [
    "Likes vs. Retweets:"
   ]
  },
  {
   "cell_type": "code",
   "execution_count": 38,
   "metadata": {},
   "outputs": [
    {
     "data": {
      "image/png": "[encoded data removed]",
      "text/plain": [
       "<Figure size 1152x288 with 1 Axes>"
      ]
     },
     "metadata": {
      "needs_background": "light"
     },
     "output_type": "display_data"
    }
   ],
   "source": [
    "tfav.plot(figsize=(16,4), label=\"Likes\", legend=True)\n",
    "tret.plot(figsize=(16,4), label=\"Retweets\", legend=True);"
   ]
  },
  {
   "cell_type": "markdown",
   "metadata": {},
   "source": [
    "What is the source of the Tweet? Mobile app vs web vs application?"
   ]
  },
  {
   "cell_type": "code",
   "execution_count": 51,
   "metadata": {},
   "outputs": [
    {
     "name": "stdout",
     "output_type": "stream",
     "text": [
      "Creation of content sources:\n",
      "* Twitter for iPhone\n"
     ]
    }
   ],
   "source": [
    "sources = []\n",
    "for source in data['Source']:\n",
    "    if source not in sources:\n",
    "        sources.append(source)\n",
    "\n",
    "print(\"Creation of content sources:\")\n",
    "for source in sources:\n",
    "    print(\"* {}\".format(source))"
   ]
  },
  {
   "cell_type": "markdown",
   "metadata": {},
   "source": [
    "Cake view for the Tweet source distribution: This is handy to see if the content is geenric or created via API / App"
   ]
  },
  {
   "cell_type": "code",
   "execution_count": 40,
   "metadata": {},
   "outputs": [
    {
     "data": {
      "image/png": "[encoded data removed]",
      "text/plain": [
       "<Figure size 432x432 with 1 Axes>"
      ]
     },
     "metadata": {},
     "output_type": "display_data"
    }
   ],
   "source": [
    "# We create a numpy vector mapped to labels:\n",
    "percent = np.zeros(len(sources))\n",
    "\n",
    "for source in data['Source']:\n",
    "    for index in range(len(sources)):\n",
    "        if source == sources[index]:\n",
    "            percent[index] += 1\n",
    "            pass\n",
    "\n",
    "percent /= 100\n",
    "\n",
    "# Pie chart:\n",
    "pie_chart = pd.Series(percent, index=sources, name='Sources')\n",
    "pie_chart.plot.pie(fontsize=11, autopct='%.2f', figsize=(6, 6));"
   ]
  },
  {
   "cell_type": "markdown",
   "metadata": {},
   "source": [
    "Sentiment analysis:\n",
    "\n",
    "Now that we created the dataset with the texts of the tweets and date, it is possible to run the sentiment alaysis."
   ]
  },
  {
   "cell_type": "code",
   "execution_count": 42,
   "metadata": {},
   "outputs": [],
   "source": [
    "from textblob import TextBlob\n",
    "import re\n",
    "\n",
    "def clean_tweet(tweet):\n",
    "    '''\n",
    "    Utility function to clean the text in a tweet by removing \n",
    "    links and special characters using regex.\n",
    "    '''\n",
    "    return ' '.join(re.sub(\"(@[A-Za-z0-9]+)|([^0-9A-Za-z \\t])|(\\w+:\\/\\/\\S+)\", \" \", tweet).split())\n",
    "\n",
    "def analyze_sentiment(tweet):\n",
    "    '''\n",
    "    Utility function to classify the polarity of a tweet\n",
    "    using textblob.\n",
    "    '''\n",
    "    analysis = TextBlob(clean_tweet(tweet))\n",
    "    if analysis.sentiment.polarity > 0:\n",
    "        return 1\n",
    "    elif analysis.sentiment.polarity == 0:\n",
    "        return 0\n",
    "    else:\n",
    "        return -1\n"
   ]
  },
  {
   "cell_type": "markdown",
   "metadata": {},
   "source": [
    "Sample of results:\n",
    "'SA' stands for sentiment analysis. Note that value for the sentiment is rounded for clearer view"
   ]
  },
  {
   "cell_type": "code",
   "execution_count": 43,
   "metadata": {},
   "outputs": [
    {
     "data": {
      "text/html": [
       "<div>\n",
       "<style scoped>\n",
       "    .dataframe tbody tr th:only-of-type {\n",
       "        vertical-align: middle;\n",
       "    }\n",
       "\n",
       "    .dataframe tbody tr th {\n",
       "        vertical-align: top;\n",
       "    }\n",
       "\n",
       "    .dataframe thead th {\n",
       "        text-align: right;\n",
       "    }\n",
       "</style>\n",
       "<table border=\"1\" class=\"dataframe\">\n",
       "  <thead>\n",
       "    <tr style=\"text-align: right;\">\n",
       "      <th></th>\n",
       "      <th>Tweets</th>\n",
       "      <th>len</th>\n",
       "      <th>ID</th>\n",
       "      <th>Date</th>\n",
       "      <th>Source</th>\n",
       "      <th>Likes</th>\n",
       "      <th>RTs</th>\n",
       "      <th>SA</th>\n",
       "    </tr>\n",
       "  </thead>\n",
       "  <tbody>\n",
       "    <tr>\n",
       "      <th>0</th>\n",
       "      <td>Space Ark - 1968 by Japanese artist Shigeru Ko...</td>\n",
       "      <td>67</td>\n",
       "      <td>1599672158086889474</td>\n",
       "      <td>2022-12-05 07:48:57+00:00</td>\n",
       "      <td>Twitter for iPhone</td>\n",
       "      <td>46373</td>\n",
       "      <td>2583</td>\n",
       "      <td>0</td>\n",
       "    </tr>\n",
       "    <tr>\n",
       "      <th>1</th>\n",
       "      <td>Starship takes beings of Earth to Mars https:/...</td>\n",
       "      <td>62</td>\n",
       "      <td>1599671964582391808</td>\n",
       "      <td>2022-12-05 07:48:11+00:00</td>\n",
       "      <td>Twitter for iPhone</td>\n",
       "      <td>148985</td>\n",
       "      <td>12713</td>\n",
       "      <td>0</td>\n",
       "    </tr>\n",
       "    <tr>\n",
       "      <th>2</th>\n",
       "      <td>@CChomp13 🤣💯</td>\n",
       "      <td>12</td>\n",
       "      <td>1599669828478185472</td>\n",
       "      <td>2022-12-05 07:39:42+00:00</td>\n",
       "      <td>Twitter for iPhone</td>\n",
       "      <td>4189</td>\n",
       "      <td>191</td>\n",
       "      <td>0</td>\n",
       "    </tr>\n",
       "    <tr>\n",
       "      <th>3</th>\n",
       "      <td>@sama What’s the average cost per chat?</td>\n",
       "      <td>39</td>\n",
       "      <td>1599669552081960960</td>\n",
       "      <td>2022-12-05 07:38:36+00:00</td>\n",
       "      <td>Twitter for iPhone</td>\n",
       "      <td>22860</td>\n",
       "      <td>764</td>\n",
       "      <td>-1</td>\n",
       "    </tr>\n",
       "    <tr>\n",
       "      <th>4</th>\n",
       "      <td>@WholeMarsBlog Electric cargo ships are straig...</td>\n",
       "      <td>140</td>\n",
       "      <td>1599643371428986880</td>\n",
       "      <td>2022-12-05 05:54:34+00:00</td>\n",
       "      <td>Twitter for iPhone</td>\n",
       "      <td>18147</td>\n",
       "      <td>1377</td>\n",
       "      <td>1</td>\n",
       "    </tr>\n",
       "    <tr>\n",
       "      <th>5</th>\n",
       "      <td>@BillyM2k Team was a bit too intense with spam...</td>\n",
       "      <td>85</td>\n",
       "      <td>1599640228721233921</td>\n",
       "      <td>2022-12-05 05:42:05+00:00</td>\n",
       "      <td>Twitter for iPhone</td>\n",
       "      <td>19394</td>\n",
       "      <td>1110</td>\n",
       "      <td>1</td>\n",
       "    </tr>\n",
       "    <tr>\n",
       "      <th>6</th>\n",
       "      <td>@RichardGarriott 1</td>\n",
       "      <td>18</td>\n",
       "      <td>1599638758697013248</td>\n",
       "      <td>2022-12-05 05:36:14+00:00</td>\n",
       "      <td>Twitter for iPhone</td>\n",
       "      <td>43137</td>\n",
       "      <td>1260</td>\n",
       "      <td>0</td>\n",
       "    </tr>\n",
       "    <tr>\n",
       "      <th>7</th>\n",
       "      <td>@WholeMarsBlog About a week or so</td>\n",
       "      <td>33</td>\n",
       "      <td>1599628966398025728</td>\n",
       "      <td>2022-12-05 04:57:19+00:00</td>\n",
       "      <td>Twitter for iPhone</td>\n",
       "      <td>4318</td>\n",
       "      <td>210</td>\n",
       "      <td>0</td>\n",
       "    </tr>\n",
       "    <tr>\n",
       "      <th>8</th>\n",
       "      <td>@COLDEX_STC @SpaceX @NSF @blueicehiggins @icy_...</td>\n",
       "      <td>140</td>\n",
       "      <td>1599628470744588288</td>\n",
       "      <td>2022-12-05 04:55:21+00:00</td>\n",
       "      <td>Twitter for iPhone</td>\n",
       "      <td>19229</td>\n",
       "      <td>918</td>\n",
       "      <td>0</td>\n",
       "    </tr>\n",
       "    <tr>\n",
       "      <th>9</th>\n",
       "      <td>RT @COLDEX_STC: Despite 30 knot winds at the A...</td>\n",
       "      <td>140</td>\n",
       "      <td>1599628033962307584</td>\n",
       "      <td>2022-12-05 04:53:37+00:00</td>\n",
       "      <td>Twitter for iPhone</td>\n",
       "      <td>0</td>\n",
       "      <td>3865</td>\n",
       "      <td>1</td>\n",
       "    </tr>\n",
       "  </tbody>\n",
       "</table>\n",
       "</div>"
      ],
      "text/plain": [
       "                                              Tweets  len  \\\n",
       "0  Space Ark - 1968 by Japanese artist Shigeru Ko...   67   \n",
       "1  Starship takes beings of Earth to Mars https:/...   62   \n",
       "2                                       @CChomp13 🤣💯   12   \n",
       "3            @sama What’s the average cost per chat?   39   \n",
       "4  @WholeMarsBlog Electric cargo ships are straig...  140   \n",
       "5  @BillyM2k Team was a bit too intense with spam...   85   \n",
       "6                                 @RichardGarriott 1   18   \n",
       "7                  @WholeMarsBlog About a week or so   33   \n",
       "8  @COLDEX_STC @SpaceX @NSF @blueicehiggins @icy_...  140   \n",
       "9  RT @COLDEX_STC: Despite 30 knot winds at the A...  140   \n",
       "\n",
       "                    ID                      Date              Source   Likes  \\\n",
       "0  1599672158086889474 2022-12-05 07:48:57+00:00  Twitter for iPhone   46373   \n",
       "1  1599671964582391808 2022-12-05 07:48:11+00:00  Twitter for iPhone  148985   \n",
       "2  1599669828478185472 2022-12-05 07:39:42+00:00  Twitter for iPhone    4189   \n",
       "3  1599669552081960960 2022-12-05 07:38:36+00:00  Twitter for iPhone   22860   \n",
       "4  1599643371428986880 2022-12-05 05:54:34+00:00  Twitter for iPhone   18147   \n",
       "5  1599640228721233921 2022-12-05 05:42:05+00:00  Twitter for iPhone   19394   \n",
       "6  1599638758697013248 2022-12-05 05:36:14+00:00  Twitter for iPhone   43137   \n",
       "7  1599628966398025728 2022-12-05 04:57:19+00:00  Twitter for iPhone    4318   \n",
       "8  1599628470744588288 2022-12-05 04:55:21+00:00  Twitter for iPhone   19229   \n",
       "9  1599628033962307584 2022-12-05 04:53:37+00:00  Twitter for iPhone       0   \n",
       "\n",
       "     RTs  SA  \n",
       "0   2583   0  \n",
       "1  12713   0  \n",
       "2    191   0  \n",
       "3    764  -1  \n",
       "4   1377   1  \n",
       "5   1110   1  \n",
       "6   1260   0  \n",
       "7    210   0  \n",
       "8    918   0  \n",
       "9   3865   1  "
      ]
     },
     "metadata": {},
     "output_type": "display_data"
    }
   ],
   "source": [
    "data['SA'] = np.array([ analyze_sentiment(tweet) for tweet in data['Tweets'] ])\n",
    "display(data.head(10))"
   ]
  },
  {
   "cell_type": "markdown",
   "metadata": {},
   "source": [
    "Calcualtion of the percentage of Positive, Neutral or Negative tweets: \n",
    "\n",
    "This can show you if the account is the real user or just a spam bot."
   ]
  },
  {
   "cell_type": "code",
   "execution_count": 52,
   "metadata": {},
   "outputs": [
    {
     "name": "stdout",
     "output_type": "stream",
     "text": [
      "Percentage of positive tweets: 44.72361809045226%\n",
      "Percentage of neutral tweets: 44.72361809045226%\n",
      "Percentage de negative tweets: 10.552763819095478%\n"
     ]
    }
   ],
   "source": [
    "pos_tweets = [ tweet for index, tweet in enumerate(data['Tweets']) if data['SA'][index] > 0]\n",
    "neu_tweets = [ tweet for index, tweet in enumerate(data['Tweets']) if data['SA'][index] == 0]\n",
    "neg_tweets = [ tweet for index, tweet in enumerate(data['Tweets']) if data['SA'][index] < 0]\n",
    "\n",
    "print(\"Percentage of positive tweets: {}%\".format(len(pos_tweets)*100/len(data['Tweets'])))\n",
    "print(\"Percentage of neutral tweets: {}%\".format(len(neu_tweets)*100/len(data['Tweets'])))\n",
    "print(\"Percentage de negative tweets: {}%\".format(len(neg_tweets)*100/len(data['Tweets'])))"
   ]
  }
 ],
 "metadata": {
  "celltoolbar": "Raw Cell Format",
  "kernelspec": {
   "display_name": "Python 3.8.8 ('eolas-py3.8.8')",
   "language": "python",
   "name": "python3"
  },
  "language_info": {
   "codemirror_mode": {
    "name": "ipython",
    "version": 3
   },
   "file_extension": ".py",
   "mimetype": "text/x-python",
   "name": "python",
   "nbconvert_exporter": "python",
   "pygments_lexer": "ipython3",
   "version": "3.8.8"
  },
  "vscode": {
   "interpreter": {
    "hash": "7217508cf40a866d2c6d8c05c8a287a7af39b44bc942772df40ff0edc82b5da6"
   }
  }
 },
 "nbformat": 4,
 "nbformat_minor": 4
}
